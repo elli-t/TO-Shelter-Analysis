{
 "cells": [
  {
   "cell_type": "code",
   "execution_count": null,
   "metadata": {},
   "outputs": [],
   "source": []
  },
  {
   "cell_type": "code",
   "execution_count": 179,
   "metadata": {
    "scrolled": true
   },
   "outputs": [
    {
     "name": "stdout",
     "output_type": "stream",
     "text": [
      "complete\n"
     ]
    }
   ],
   "source": [
    "'''\n",
    "This script will convert the raw csv file into JSON for easier readability. \n",
    "'''\n",
    "import pandas as pd\n",
    "import json \n",
    "from collections import defaultdict\n",
    "\n",
    "df = pd.read_csv('shelter_filledCap.csv', index_col=None)\n",
    "df.columns = df.columns.str.lower() #make lower case\n",
    "\n",
    "#list of items to include\n",
    "attr = ['SHELTER_NAME', 'SECTOR', 'PROGRAM_NAME', 'ORGANIZATION_NAME', 'SHELTER_ADDRESS', 'SHELTER_CITY', 'SHELTER_PROVINCE', 'SHELTER_POSTAL_CODE', 'FACILITY_NAME']\n",
    "attrLower = [item.lower() for item in keys] #make lower case\n",
    "\n",
    "\n",
    "#Function to nest the date/occupancy ratio\n",
    "def rollup1(x):\n",
    "    return x.set_index('occupancy_date')[['occupancy', 'capacity']].to_dict(orient='index')\n",
    "\n",
    "#Group the desired attributes, and then apply the nesting function\n",
    "df2 = df.groupby(attrLower).apply(rollup1)\n",
    "\n",
    "#Give the nested functions a name\n",
    "df2.name = 'daily_usage'\n",
    "#clean up the index \n",
    "res = df.reset_index(level=[0]).to_dict(orient='index')\n",
    "\n",
    "df2.to_json('shelterRead.json', orient = 'table')\n",
    "\n",
    "\n",
    "print('complete')"
   ]
  },
  {
   "cell_type": "code",
   "execution_count": null,
   "metadata": {},
   "outputs": [],
   "source": []
  },
  {
   "cell_type": "code",
   "execution_count": null,
   "metadata": {},
   "outputs": [],
   "source": []
  }
 ],
 "metadata": {
  "kernelspec": {
   "display_name": "Python 3",
   "language": "python",
   "name": "python3"
  },
  "language_info": {
   "codemirror_mode": {
    "name": "ipython",
    "version": 3
   },
   "file_extension": ".py",
   "mimetype": "text/x-python",
   "name": "python",
   "nbconvert_exporter": "python",
   "pygments_lexer": "ipython3",
   "version": "3.6.5"
  }
 },
 "nbformat": 4,
 "nbformat_minor": 2
}
